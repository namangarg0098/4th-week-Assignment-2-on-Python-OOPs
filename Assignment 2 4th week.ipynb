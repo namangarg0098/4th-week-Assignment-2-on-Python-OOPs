{
 "cells": [
  {
   "cell_type": "markdown",
   "id": "a7572d8b-f73e-4ce0-9cef-d5d713ee4971",
   "metadata": {},
   "source": [
    "Q1 -: What is Abstraction in OOPs ? Explain with an example."
   ]
  },
  {
   "cell_type": "code",
   "execution_count": 2,
   "id": "ee1a1097-d262-4dcc-bd9c-7cafa1cc51cb",
   "metadata": {},
   "outputs": [],
   "source": [
    "# Abstraction is used to hide the internal functionality of the function from the users.\n",
    "# The users only interact with the basic implementation of the function, but inner working is hidden.\n",
    "# User is familiar with that \"what function does\" but they don't know \"how it does.\""
   ]
  },
  {
   "cell_type": "code",
   "execution_count": 3,
   "id": "1d2eb68e-81cf-4adf-85f7-709c48975abc",
   "metadata": {},
   "outputs": [],
   "source": [
    "# Example"
   ]
  },
  {
   "cell_type": "code",
   "execution_count": 4,
   "id": "6e6ff45c-8191-4f85-bb9d-4c90d60fc5fd",
   "metadata": {},
   "outputs": [],
   "source": [
    "# Your car is a great example of abstraction. You can start a car by turning the key or pressing the start button.\n",
    "# You don't need to know how the engine is getting started, what all components your car has.\n",
    "# The car internal implementation and complex logic is completely hidden from the user"
   ]
  },
  {
   "cell_type": "code",
   "execution_count": null,
   "id": "327417d7-f388-4eab-bfe8-50a2d107e4eb",
   "metadata": {},
   "outputs": [],
   "source": []
  },
  {
   "cell_type": "markdown",
   "id": "524ab0d6-5122-4449-a2ec-f27678dc211e",
   "metadata": {},
   "source": [
    "Q2 -: Differentiate between Abstraction and Encapsulation. Explain with an Example"
   ]
  },
  {
   "cell_type": "code",
   "execution_count": 5,
   "id": "ee79ce6d-3378-48db-81ae-ae65e3cbee96",
   "metadata": {},
   "outputs": [],
   "source": [
    "# Abstraction is a way of representing some specific data.\n",
    "# Encapsulation is a way of hiding the complexity of something and exposing only the parts you wish to expose.\n",
    "# For example, if you have a class that has one or more private fields that you use to store the data,\n",
    "# then you are in encapsulation."
   ]
  },
  {
   "cell_type": "code",
   "execution_count": 6,
   "id": "fce59941-77cc-410f-bd70-243685cefa23",
   "metadata": {},
   "outputs": [],
   "source": [
    "# Abstraction is a process of hiding the implementation details of a system from the user,\n",
    "# and only the functional details will be available to the user end. On the other hand,\n",
    "# Encapsulation is a method of wrapping up the data and code acting on the data into a single unit."
   ]
  },
  {
   "cell_type": "code",
   "execution_count": null,
   "id": "e8876b23-ca98-4a30-8017-5d000c0881ea",
   "metadata": {},
   "outputs": [],
   "source": []
  },
  {
   "cell_type": "markdown",
   "id": "b5365716-2304-4997-88ae-3f97369a6fa8",
   "metadata": {},
   "source": [
    "Q3 -: What is abc module in python? Why it is used?"
   ]
  },
  {
   "cell_type": "code",
   "execution_count": 7,
   "id": "59417075-31bc-487b-aa4f-8a8047fd17c6",
   "metadata": {},
   "outputs": [],
   "source": [
    "# The 'abc' module in the Python library provides the infrastructure for defining custom abstract base classes.\n",
    "# Abstract class cannot be instantiated in python. An Abstract method can be call by its subclasses"
   ]
  },
  {
   "cell_type": "code",
   "execution_count": 8,
   "id": "e9b04bfb-5225-4338-9cf5-6956de2f2275",
   "metadata": {},
   "outputs": [],
   "source": [
    "# An Abstract class is one of important concept in object oriented programming(oops).\n",
    "# It is like blueprint for other classes."
   ]
  },
  {
   "cell_type": "code",
   "execution_count": null,
   "id": "12cda020-d699-4805-af7f-f263864752f6",
   "metadata": {},
   "outputs": [],
   "source": [
    "# For larger projects, it is impossible to remember the class details, and also the reusability of code can\n",
    "# increase the bug. Therefore, it plays a crucial role in our projects.\n",
    "\n",
    "# By default, Python does not provide abstract classes.\n",
    "# The ‘abc’ module in the Python library provides the infrastructure for defining custom abstract base classes.\n",
    "\n",
    "# Abstract class cannot be instantiated in python. An Abstract method can be call by its subclasses."
   ]
  },
  {
   "cell_type": "code",
   "execution_count": null,
   "id": "1723ae94-f11a-4fc4-a096-cb0dd7dd0279",
   "metadata": {},
   "outputs": [],
   "source": []
  },
  {
   "cell_type": "markdown",
   "id": "99f13920-2cdb-4d24-a575-97ca68f45bfa",
   "metadata": {},
   "source": [
    "Q4 -: How can we achieve data abstraction?"
   ]
  },
  {
   "cell_type": "code",
   "execution_count": null,
   "id": "a8ef9262-1d82-4c7c-9738-91ba0f008d5b",
   "metadata": {},
   "outputs": [],
   "source": [
    "# Data Abstraction in Python can be achieved through creating abstract classes and inheriting them later."
   ]
  },
  {
   "cell_type": "code",
   "execution_count": null,
   "id": "c84fcfd2-291f-4d0a-8a0e-ff90310b29fb",
   "metadata": {},
   "outputs": [],
   "source": []
  },
  {
   "cell_type": "markdown",
   "id": "9f472296-b524-489c-a73c-1a45d544b633",
   "metadata": {},
   "source": [
    "Q5 -: Can we create an instance of an abstract class? Explain your answer."
   ]
  },
  {
   "cell_type": "code",
   "execution_count": null,
   "id": "65f6f076-c549-40f0-8d98-c2e5c5aed56b",
   "metadata": {},
   "outputs": [],
   "source": [
    "# Abstract classes are not complete, as they may have some methods that are not defined.\n",
    "# So we cannot create an instance or object of an abstract class in Python."
   ]
  },
  {
   "cell_type": "code",
   "execution_count": null,
   "id": "3454b944-b975-4398-b568-7298962d5343",
   "metadata": {},
   "outputs": [],
   "source": []
  },
  {
   "cell_type": "code",
   "execution_count": null,
   "id": "b18ddc80-cb77-4ce3-9a2d-93d09d08c050",
   "metadata": {},
   "outputs": [],
   "source": []
  },
  {
   "cell_type": "code",
   "execution_count": null,
   "id": "d88f130f-d29e-401e-994a-918f48946503",
   "metadata": {},
   "outputs": [],
   "source": []
  },
  {
   "cell_type": "code",
   "execution_count": null,
   "id": "e5e4d369-2022-4a61-9403-e8b62b0bed37",
   "metadata": {},
   "outputs": [],
   "source": []
  },
  {
   "cell_type": "code",
   "execution_count": null,
   "id": "c6304fc1-eaf0-4399-a3ff-328d1c05e965",
   "metadata": {},
   "outputs": [],
   "source": []
  },
  {
   "cell_type": "code",
   "execution_count": null,
   "id": "1d9cd91b-83f6-4103-a2c1-ab6bb944ec4b",
   "metadata": {},
   "outputs": [],
   "source": []
  },
  {
   "cell_type": "code",
   "execution_count": null,
   "id": "1b309dfe-ceff-417e-8a5f-6eb4cebe12ce",
   "metadata": {},
   "outputs": [],
   "source": []
  }
 ],
 "metadata": {
  "kernelspec": {
   "display_name": "Python 3 (ipykernel)",
   "language": "python",
   "name": "python3"
  },
  "language_info": {
   "codemirror_mode": {
    "name": "ipython",
    "version": 3
   },
   "file_extension": ".py",
   "mimetype": "text/x-python",
   "name": "python",
   "nbconvert_exporter": "python",
   "pygments_lexer": "ipython3",
   "version": "3.10.8"
  }
 },
 "nbformat": 4,
 "nbformat_minor": 5
}
